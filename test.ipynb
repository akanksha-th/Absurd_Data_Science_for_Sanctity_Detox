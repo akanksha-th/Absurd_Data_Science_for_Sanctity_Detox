{
 "cells": [
  {
   "cell_type": "code",
   "execution_count": null,
   "id": "356a53f1",
   "metadata": {},
   "outputs": [],
   "source": [
    "a = [2, 3, 5, 6,7 ,7]\n",
    "a.sum()"
   ]
  },
  {
   "cell_type": "code",
   "execution_count": null,
   "id": "23a4cc0a",
   "metadata": {},
   "outputs": [],
   "source": []
  }
 ],
 "metadata": {
  "kernelspec": {
   "display_name": "Python 3",
   "language": "python",
   "name": "python3"
  },
  "language_info": {
   "name": "python",
   "version": "3.11.9"
  }
 },
 "nbformat": 4,
 "nbformat_minor": 5
}

{
 "cells": [
  {
   "cell_type": "markdown",
   "id": "a2262fd4",
   "metadata": {},
   "source": [
    "##### **Downloading Cat Images**"
   ]
  },
  {
   "cell_type": "code",
   "execution_count": null,
   "id": "0aa72d63",
   "metadata": {},
   "outputs": [],
   "source": []
  },
  {
   "cell_type": "markdown",
   "id": "a404bf49",
   "metadata": {},
   "source": [
    "##### **Getting stock price for atleast 1 meme stock**"
   ]
  },
  {
   "cell_type": "markdown",
   "id": "e1089f45",
   "metadata": {},
   "source": [
    "##### **Fetch Moon Phase Data**"
   ]
  },
  {
   "cell_type": "markdown",
   "id": "45c9eb0a",
   "metadata": {},
   "source": [
    "##### **Fetch Weather Data**"
   ]
  },
  {
   "cell_type": "markdown",
   "id": "ccfe2769",
   "metadata": {},
   "source": [
    "##### **Gather reddit WallStreetBets text data**"
   ]
  },
  {
   "cell_type": "markdown",
   "id": "439e8fa5",
   "metadata": {},
   "source": []
  }
 ],
 "metadata": {
  "language_info": {
   "name": "python"
  }
 },
 "nbformat": 4,
 "nbformat_minor": 5
}
